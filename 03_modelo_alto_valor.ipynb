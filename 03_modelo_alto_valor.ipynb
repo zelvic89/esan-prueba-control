{
 "cells": [
  {
   "cell_type": "markdown",
   "metadata": {
    "application/vnd.databricks.v1+cell": {
     "cellMetadata": {},
     "inputWidgets": {},
     "nuid": "daf771c8-bcab-4337-af30-193d992487a2",
     "showTitle": false,
     "tableResultSettingsMap": {},
     "title": ""
    }
   },
   "source": [
    "## Importar librerias"
   ]
  },
  {
   "cell_type": "code",
   "execution_count": 0,
   "metadata": {
    "application/vnd.databricks.v1+cell": {
     "cellMetadata": {
      "byteLimit": 2048000,
      "rowLimit": 10000
     },
     "inputWidgets": {},
     "nuid": "73d15a51-2369-4282-94c3-ea5878b11bcd",
     "showTitle": false,
     "tableResultSettingsMap": {},
     "title": ""
    }
   },
   "outputs": [],
   "source": [
    "import warnings\n",
    "warnings.filterwarnings('ignore')\n",
    "import pandas as pd\n",
    "import numpy as np\n",
    "import matplotlib.pyplot as plt\n",
    "from sklearn.model_selection import train_test_split\n",
    "#import xgboost as xgb\n",
    "from sklearn.metrics import classification_report, roc_auc_score, accuracy_score\n",
    "from sklearn.metrics import f1_score\n",
    "import random"
   ]
  },
  {
   "cell_type": "markdown",
   "metadata": {
    "application/vnd.databricks.v1+cell": {
     "cellMetadata": {},
     "inputWidgets": {},
     "nuid": "db1c8766-2193-4f18-9655-6681637e1e0f",
     "showTitle": false,
     "tableResultSettingsMap": {},
     "title": ""
    }
   },
   "source": [
    "## Leer bases"
   ]
  },
  {
   "cell_type": "code",
   "execution_count": 0,
   "metadata": {
    "application/vnd.databricks.v1+cell": {
     "cellMetadata": {
      "byteLimit": 2048000,
      "rowLimit": 10000
     },
     "inputWidgets": {},
     "nuid": "fb98f064-0378-4ccd-9e13-ba16498f28fa",
     "showTitle": false,
     "tableResultSettingsMap": {},
     "title": ""
    }
   },
   "outputs": [],
   "source": [
    "ruta_base = \"workspace.default.base_modelo_alto_valor\""
   ]
  },
  {
   "cell_type": "code",
   "execution_count": 0,
   "metadata": {
    "application/vnd.databricks.v1+cell": {
     "cellMetadata": {
      "byteLimit": 2048000,
      "rowLimit": 10000
     },
     "inputWidgets": {},
     "nuid": "f5b091e0-be4b-4b06-b696-309e8edbbf9a",
     "showTitle": false,
     "tableResultSettingsMap": {},
     "title": ""
    }
   },
   "outputs": [],
   "source": [
    "# Leer la tabla usando Spark\n",
    "df_sp = spark.table(ruta_base)"
   ]
  },
  {
   "cell_type": "code",
   "execution_count": 0,
   "metadata": {
    "application/vnd.databricks.v1+cell": {
     "cellMetadata": {
      "byteLimit": 2048000,
      "rowLimit": 10000
     },
     "inputWidgets": {},
     "nuid": "c399a276-66a1-41f9-b6a6-f982f53d3d0b",
     "showTitle": false,
     "tableResultSettingsMap": {},
     "title": ""
    }
   },
   "outputs": [],
   "source": [
    "df = df_sp.toPandas()"
   ]
  },
  {
   "cell_type": "code",
   "execution_count": 0,
   "metadata": {
    "application/vnd.databricks.v1+cell": {
     "cellMetadata": {
      "byteLimit": 2048000,
      "rowLimit": 10000
     },
     "inputWidgets": {},
     "nuid": "28bef953-6a8f-413e-8398-753f9638fd9d",
     "showTitle": false,
     "tableResultSettingsMap": {},
     "title": ""
    }
   },
   "outputs": [],
   "source": [
    "df.shape"
   ]
  },
  {
   "cell_type": "code",
   "execution_count": 0,
   "metadata": {
    "application/vnd.databricks.v1+cell": {
     "cellMetadata": {
      "byteLimit": 2048000,
      "rowLimit": 10000
     },
     "inputWidgets": {},
     "nuid": "d420103f-0721-4f52-be44-351459d2df0a",
     "showTitle": false,
     "tableResultSettingsMap": {},
     "title": ""
    }
   },
   "outputs": [],
   "source": [
    "!pip install xgboost\n",
    "import xgboost as xgb"
   ]
  },
  {
   "cell_type": "markdown",
   "metadata": {
    "application/vnd.databricks.v1+cell": {
     "cellMetadata": {},
     "inputWidgets": {},
     "nuid": "4617609c-5ab2-44c8-93a7-a691fc3f434a",
     "showTitle": false,
     "tableResultSettingsMap": {},
     "title": ""
    }
   },
   "source": [
    "## Modelo base con parámetros óptimos"
   ]
  },
  {
   "cell_type": "code",
   "execution_count": 0,
   "metadata": {
    "application/vnd.databricks.v1+cell": {
     "cellMetadata": {
      "byteLimit": 2048000,
      "rowLimit": 10000
     },
     "inputWidgets": {},
     "nuid": "4e2bdc43-0484-4ce9-aed9-956b559188c1",
     "showTitle": false,
     "tableResultSettingsMap": {},
     "title": ""
    }
   },
   "outputs": [],
   "source": [
    "# Separar las características y el objetivo\n",
    "X = df[['periodo_creacion', 'flg_vip', 'tipo_producto_producto_a', 'tipo_producto_producto_b', 'tipo_producto_producto_c', 'monto_1m', 'monto_2m', 'monto_3m', \n",
    "        'cantidad_1m', 'cantidad_2m', 'cantidad_3m',\n",
    "        'ultima_compra_1m', 'crossell']]  # Características\n",
    "y = df['flg_churn']  # Variable objetivo\n",
    "\n",
    "# Realizar el train-test split estratificado\n",
    "X_train, X_test, y_train, y_test = train_test_split(\n",
    "    X, y, \n",
    "    test_size=0.3,  # 30% para el conjunto de prueba\n",
    "    stratify=y,  # Estratificación por la variable objetivo\n",
    "    random_state=42  # Semilla para reproducibilidad\n",
    ")"
   ]
  },
  {
   "cell_type": "markdown",
   "metadata": {
    "application/vnd.databricks.v1+cell": {
     "cellMetadata": {},
     "inputWidgets": {},
     "nuid": "b2c13a15-f1da-4aa4-99d7-4133bcf04b61",
     "showTitle": false,
     "tableResultSettingsMap": {},
     "title": ""
    }
   },
   "source": [
    "## Modelo base "
   ]
  },
  {
   "cell_type": "code",
   "execution_count": 0,
   "metadata": {
    "application/vnd.databricks.v1+cell": {
     "cellMetadata": {
      "byteLimit": 2048000,
      "rowLimit": 10000
     },
     "inputWidgets": {},
     "nuid": "5fe7a62b-1848-4418-95b8-f0d5a491d7aa",
     "showTitle": false,
     "tableResultSettingsMap": {},
     "title": ""
    }
   },
   "outputs": [],
   "source": [
    "def entrenar_xgboost_rapido(X_train, X_test, y_train, y_test):\n",
    "    \"\"\"\n",
    "    Entrena un modelo XGBoost para un problema de clasificación binaria utilizando\n",
    "    parámetros óptimos previamente obtenidos.\n",
    "    \"\"\"\n",
    "    # Parámetros óptimos (reemplaza con los que obtuviste en el GridSearch)\n",
    "    parametros_optimos = {\n",
    "        'objective': 'binary:logistic',\n",
    "        'eval_metric': 'logloss',\n",
    "        'use_label_encoder': False,\n",
    "        'n_estimators': 50,\n",
    "        'max_depth': 5,\n",
    "        'learning_rate': 0.1,\n",
    "        'subsample': 0.8,\n",
    "        'colsample_bytree': 0.8,\n",
    "        'random_state': 42\n",
    "    }\n",
    "    \n",
    "    # Crear y entrenar el modelo\n",
    "    xgb_model = xgb.XGBClassifier(**parametros_optimos)\n",
    "    xgb_model.fit(X_train, y_train)\n",
    "    \n",
    "    # Predicciones\n",
    "    y_pred = xgb_model.predict(X_test)\n",
    "    y_pred_prob = xgb_model.predict_proba(X_test)[:, 1]\n",
    "    \n",
    "    # Evaluar el modelo\n",
    "    print(\"\\nReporte de clasificación:\")\n",
    "    print(classification_report(y_test, y_pred))\n",
    "    print(f\"AUC-ROC: {roc_auc_score(y_test, y_pred_prob):.4f}\")\n",
    "    print(f\"Accuracy: {accuracy_score(y_test, y_pred):.4f}\")\n",
    "    \n",
    "    return xgb_model"
   ]
  },
  {
   "cell_type": "code",
   "execution_count": 0,
   "metadata": {
    "application/vnd.databricks.v1+cell": {
     "cellMetadata": {
      "byteLimit": 2048000,
      "rowLimit": 10000
     },
     "inputWidgets": {},
     "nuid": "505bb218-1561-44ed-b1a6-b84d49728a9f",
     "showTitle": false,
     "tableResultSettingsMap": {},
     "title": ""
    }
   },
   "outputs": [],
   "source": [
    "modelo_final = entrenar_xgboost_rapido(X_train, X_test, y_train, y_test)"
   ]
  },
  {
   "cell_type": "markdown",
   "metadata": {
    "application/vnd.databricks.v1+cell": {
     "cellMetadata": {},
     "inputWidgets": {},
     "nuid": "ff93dc1b-56cf-47fc-b152-1aaf01c94f98",
     "showTitle": false,
     "tableResultSettingsMap": {},
     "title": ""
    }
   },
   "source": [
    "## Entrenar modelos con seleccion de variable GA"
   ]
  },
  {
   "cell_type": "code",
   "execution_count": 0,
   "metadata": {
    "application/vnd.databricks.v1+cell": {
     "cellMetadata": {
      "byteLimit": 2048000,
      "rowLimit": 10000
     },
     "inputWidgets": {},
     "nuid": "a0d8c02f-fad8-4475-bbc8-c77213dec223",
     "showTitle": false,
     "tableResultSettingsMap": {},
     "title": ""
    }
   },
   "outputs": [],
   "source": [
    "def feature_selection_ga(X, y, generations=10, population_size=20, mutation_rate=0.3, tournament_size=3, seleccion = \"tournament\"):\n",
    "    \"\"\"\n",
    "    Realiza selección de características usando un algoritmo genético con XGBoost como modelo base.\n",
    "    Se puede utilizar el algoritmo de xgboost o random forest\n",
    "    Se puede usar tounament selection o fitness scaling\n",
    "    \"\"\"\n",
    "    # Dividir datos en entrenamiento y prueba\n",
    "    X_train, X_test, y_train, y_test = train_test_split(X, y, test_size=0.3, random_state=42)\n",
    "    \n",
    "    n_features = X.shape[1]\n",
    "\n",
    "    # Función para inicializar la población heurísticamente\n",
    "    def initialize_population(size):\n",
    "        population = []\n",
    "        for _ in range(size):\n",
    "            individual = np.random.choice([0, 1], size=n_features, p=[0.5, 0.5])\n",
    "            population.append(individual)\n",
    "        return np.array(population)\n",
    "\n",
    "    # Función para evaluar el fitness\n",
    "    def evaluate_fitness(individual):\n",
    "        selected_features = np.where(individual == 1)[0]\n",
    "        if len(selected_features) == 0:  # Penalizar soluciones sin características\n",
    "            return 0\n",
    "        X_train_selected = X_train.iloc[:, selected_features]\n",
    "        X_test_selected = X_test.iloc[:, selected_features]\n",
    "        \n",
    "        model = xgb.XGBClassifier(\n",
    "            objective='binary:logistic',\n",
    "            eval_metric='logloss',\n",
    "            use_label_encoder=False,\n",
    "            random_state=42\n",
    "        )\n",
    "        model.fit(X_train_selected, y_train)\n",
    "        y_pred = model.predict(X_test_selected)\n",
    "        return f1_score(y_test, y_pred, average='macro')\n",
    "\n",
    "    # Selección por torneo\n",
    "    def tournament_selection(population, fitness_scores, k):\n",
    "        selected = []\n",
    "        for _ in range(k):\n",
    "            participants = np.random.choice(len(population), size=tournament_size, replace=False)\n",
    "            best = participants[np.argmax(fitness_scores[participants])]\n",
    "            selected.append(population[best])\n",
    "        return np.array(selected)\n",
    "    \n",
    "    def fitness_scaling_selection(population, fitness_scores, k):\n",
    "        # Escalar los valores de fitness: normaliza entre 0 y 1\n",
    "        min_fitness = np.min(fitness_scores)\n",
    "        max_fitness = np.max(fitness_scores)\n",
    "        \n",
    "        if max_fitness == min_fitness:  # Evitar división por cero\n",
    "            scaled_fitness = np.ones_like(fitness_scores)\n",
    "        else:\n",
    "            scaled_fitness = (fitness_scores - min_fitness) / (max_fitness - min_fitness)\n",
    "        \n",
    "        # Convertir los valores escalados en probabilidades de selección\n",
    "        selection_probabilities = scaled_fitness / np.sum(scaled_fitness)\n",
    "        \n",
    "        # Seleccionar individuos basados en las probabilidades\n",
    "        selected_indices = np.random.choice(len(population), size=k, replace=True, p=selection_probabilities)\n",
    "        selected = population[selected_indices]\n",
    "        \n",
    "        return np.array(selected)\n",
    "    \n",
    "    # Cruce (crossover)\n",
    "    def crossover(parent1, parent2):\n",
    "        point = random.randint(1, n_features - 1)\n",
    "        child1 = np.concatenate([parent1[:point], parent2[point:]])\n",
    "        child2 = np.concatenate([parent2[:point], parent1[point:]])\n",
    "        return child1, child2\n",
    "\n",
    "    # Mutación\n",
    "    def mutate(individual):\n",
    "        for i in range(len(individual)):\n",
    "            if random.random() < mutation_rate:\n",
    "                individual[i] = 1 - individual[i]\n",
    "        return individual\n",
    "\n",
    "    # Inicializar población\n",
    "    population = initialize_population(population_size)\n",
    "    best_fitness = 0\n",
    "    best_solution = None\n",
    "    historial_fitness = []  # Para almacenar el mejor F1 Score de cada generación\n",
    "\n",
    "    # Algoritmo genético\n",
    "    for generation in range(generations):\n",
    "        fitness_scores = np.array([evaluate_fitness(ind) for ind in population])\n",
    "        \n",
    "        # Guardar el mejor individuo\n",
    "        if fitness_scores.max() > best_fitness:\n",
    "            best_fitness = fitness_scores.max()\n",
    "            best_solution = population[np.argmax(fitness_scores)]\n",
    "        \n",
    "        # Almacenar el mejor F1 Score de la generación\n",
    "        historial_fitness.append(best_fitness)\n",
    "        \n",
    "        print(f\"Generación {generation + 1} - Mejor F1 Score: {best_fitness:.4f}\")\n",
    "        \n",
    "         # Selección\n",
    "        if seleccion == \"tournament\":\n",
    "            selected_population = tournament_selection(population, fitness_scores, population_size // 2)\n",
    "        else:\n",
    "            selected_population = fitness_scaling_selection(population, fitness_scores, population_size // 2)\n",
    "        \n",
    "        # Reproducción\n",
    "        next_population = []\n",
    "        while len(next_population) < population_size:\n",
    "            parent1, parent2 = random.sample(list(selected_population), 2)\n",
    "            child1, child2 = crossover(parent1, parent2)\n",
    "            next_population.extend([mutate(child1), mutate(child2)])\n",
    "        \n",
    "        population = np.array(next_population[:population_size])\n",
    "\n",
    "    # Extraer nombres de las mejores características\n",
    "    selected_features_indices = np.where(best_solution == 1)[0]\n",
    "    nombres_mejores_caracteristicas = X.columns[selected_features_indices].tolist()\n",
    "\n",
    "    return best_solution, nombres_mejores_caracteristicas, historial_fitness"
   ]
  },
  {
   "cell_type": "markdown",
   "metadata": {
    "application/vnd.databricks.v1+cell": {
     "cellMetadata": {},
     "inputWidgets": {},
     "nuid": "07a8e7a7-85ad-4e95-9735-7700d23eaa31",
     "showTitle": false,
     "tableResultSettingsMap": {},
     "title": ""
    }
   },
   "source": [
    "### Xgboost + tournament"
   ]
  },
  {
   "cell_type": "code",
   "execution_count": 0,
   "metadata": {
    "application/vnd.databricks.v1+cell": {
     "cellMetadata": {
      "byteLimit": 2048000,
      "rowLimit": 10000
     },
     "inputWidgets": {},
     "nuid": "477d482f-3631-4cdd-9bf1-577658f0c80f",
     "showTitle": false,
     "tableResultSettingsMap": {},
     "title": ""
    }
   },
   "outputs": [],
   "source": [
    "df_numeric = df.select_dtypes(include=['number'])"
   ]
  },
  {
   "cell_type": "code",
   "execution_count": 0,
   "metadata": {
    "application/vnd.databricks.v1+cell": {
     "cellMetadata": {
      "byteLimit": 2048000,
      "rowLimit": 10000
     },
     "inputWidgets": {},
     "nuid": "5893792a-ee05-4122-9a37-117b8c692526",
     "showTitle": false,
     "tableResultSettingsMap": {},
     "title": ""
    }
   },
   "outputs": [],
   "source": [
    "df_numeric"
   ]
  },
  {
   "cell_type": "code",
   "execution_count": 0,
   "metadata": {
    "application/vnd.databricks.v1+cell": {
     "cellMetadata": {
      "byteLimit": 2048000,
      "rowLimit": 10000
     },
     "inputWidgets": {},
     "nuid": "2cf940dd-33a8-4c8b-9a45-7a538fa611c1",
     "showTitle": false,
     "tableResultSettingsMap": {},
     "title": ""
    }
   },
   "outputs": [],
   "source": [
    "best_solution, nombres_mejores_caracteristicas, historial_fitness = feature_selection_ga(df_numeric.drop(columns=[\"id_cliente\", \"periodo\" ,\"flg_churn\"]), df_numeric[[\"flg_churn\"]], generations=30, population_size=30, seleccion = \"tournament\")"
   ]
  },
  {
   "cell_type": "markdown",
   "metadata": {
    "application/vnd.databricks.v1+cell": {
     "cellMetadata": {},
     "inputWidgets": {},
     "nuid": "85bfa166-8ddd-4924-adc3-0cede1d7e9fa",
     "showTitle": false,
     "tableResultSettingsMap": {},
     "title": ""
    }
   },
   "source": [
    "### Xgboost + fitness scaling"
   ]
  },
  {
   "cell_type": "code",
   "execution_count": 0,
   "metadata": {
    "application/vnd.databricks.v1+cell": {
     "cellMetadata": {
      "byteLimit": 2048000,
      "rowLimit": 10000
     },
     "inputWidgets": {},
     "nuid": "cacd78bb-c3bc-4ca5-ba51-75fd587dfea2",
     "showTitle": false,
     "tableResultSettingsMap": {},
     "title": ""
    }
   },
   "outputs": [],
   "source": [
    "best_solution_fs, nombres_mejores_caracteristicas_fs, historial_fitness_fs= feature_selection_ga(df_numeric.drop(columns=[\"id_cliente\", \"periodo\" ,\"flg_churn\"]), df_numeric[[\"flg_churn\"]], generations=30, population_size=30, seleccion = \"fitness_scaling\")"
   ]
  },
  {
   "cell_type": "code",
   "execution_count": 0,
   "metadata": {
    "application/vnd.databricks.v1+cell": {
     "cellMetadata": {
      "byteLimit": 2048000,
      "rowLimit": 10000
     },
     "inputWidgets": {},
     "nuid": "496713e4-48f1-4149-8516-4c972adf5bad",
     "showTitle": false,
     "tableResultSettingsMap": {},
     "title": ""
    }
   },
   "outputs": [],
   "source": [
    "# Crear el gráfico\n",
    "plt.figure(figsize=(8, 6))  # Tamaño del gráfico\n",
    "plt.plot([i for i in range(len(historial_fitness))], historial_fitness[:], label=\"xgboost tournament selection\", linestyle=\"-.\", linewidth=2)\n",
    "plt.plot([i for i in range(len(historial_fitness_fs))], historial_fitness_fs[:], label=\"xgboost fitness scaling\", linestyle=\"-.\", linewidth=2)\n",
    "\n",
    "# Personalización\n",
    "#plt.title(\"F1 Score compartivo Torunament Selection vs Fitness Scaling\", fontsize=16)\n",
    "plt.xlabel(\"Iteraciones\", fontsize=12)\n",
    "plt.ylabel(\"Fitness\", fontsize=12)\n",
    "plt.legend(fontsize=12)\n",
    "plt.grid(alpha=0.5)\n",
    "\n",
    "plt.show()"
   ]
  },
  {
   "cell_type": "markdown",
   "metadata": {
    "application/vnd.databricks.v1+cell": {
     "cellMetadata": {},
     "inputWidgets": {},
     "nuid": "3be2815a-902e-4c79-bca5-317aa6c447ad",
     "showTitle": false,
     "tableResultSettingsMap": {},
     "title": ""
    }
   },
   "source": [
    "## Modelo final"
   ]
  },
  {
   "cell_type": "code",
   "execution_count": 0,
   "metadata": {
    "application/vnd.databricks.v1+cell": {
     "cellMetadata": {
      "byteLimit": 2048000,
      "rowLimit": 10000
     },
     "inputWidgets": {},
     "nuid": "46b6d736-1293-4699-bddb-9ac4afcf5eee",
     "showTitle": false,
     "tableResultSettingsMap": {},
     "title": ""
    }
   },
   "outputs": [],
   "source": [
    "nombres_mejores_caracteristicas"
   ]
  },
  {
   "cell_type": "code",
   "execution_count": 0,
   "metadata": {
    "application/vnd.databricks.v1+cell": {
     "cellMetadata": {
      "byteLimit": 2048000,
      "rowLimit": 10000
     },
     "inputWidgets": {},
     "nuid": "6fde1242-933e-4bb6-adea-4cef03877adc",
     "showTitle": false,
     "tableResultSettingsMap": {},
     "title": ""
    }
   },
   "outputs": [],
   "source": [
    "# Separar las características y el objetivo\n",
    "X = df[nombres_mejores_caracteristicas]  # Características\n",
    "y = df['flg_churn']  # Variable objetivo\n",
    "\n",
    "# Realizar el train-test split estratificado\n",
    "X_train_final, X_test_final, y_train_final, y_test_final = train_test_split(\n",
    "    X, y, \n",
    "    test_size=0.3,  # 30% para el conjunto de prueba\n",
    "    stratify=y,  # Estratificación por la variable objetivo\n",
    "    random_state=42  # Semilla para reproducibilidad\n",
    ")\n",
    "\n",
    "modelo_final_2 = entrenar_xgboost_rapido(X_train_final, X_test_final, y_train_final, y_test_final)"
   ]
  },
  {
   "cell_type": "code",
   "execution_count": 0,
   "metadata": {
    "application/vnd.databricks.v1+cell": {
     "cellMetadata": {},
     "inputWidgets": {},
     "nuid": "bf6a5575-1cba-42d8-a3f8-c70c71003f11",
     "showTitle": false,
     "tableResultSettingsMap": {},
     "title": ""
    }
   },
   "outputs": [],
   "source": []
  }
 ],
 "metadata": {
  "application/vnd.databricks.v1+notebook": {
   "computePreferences": null,
   "dashboards": [],
   "environmentMetadata": null,
   "inputWidgetPreferences": null,
   "language": "python",
   "notebookMetadata": {
    "pythonIndentUnit": 4
   },
   "notebookName": "03_modelo_alto_valor",
   "widgets": {}
  },
  "kernelspec": {
   "display_name": ".venv",
   "language": "python",
   "name": "python3"
  },
  "language_info": {
   "name": "python"
  }
 },
 "nbformat": 4,
 "nbformat_minor": 0
}
